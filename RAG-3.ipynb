{
 "cells": [
  {
   "cell_type": "code",
   "execution_count": 2,
   "metadata": {},
   "outputs": [],
   "source": [
    "import os\n",
    "import re\n",
    "import requests\n",
    "from groq import Groq"
   ]
  },
  {
   "cell_type": "code",
   "execution_count": 50,
   "metadata": {},
   "outputs": [],
   "source": [
    "os.environ[\"GROQ_API_KEY\"] = \"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\"\n",
    "model=\"llama-3.1-70b-versatile\"\n",
    "os.environ[\"WOLFRAM_ALPHA_APPID\"] = \"Y89ETU-L7Y6WK73H8\"\n",
    "os.environ[\"USER_AGENT\"] = \"myagent\"\n",
    "os.environ[\"TAVILY_API_KEY\"] = \"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\"\n",
    "os.environ[\"ZILLIZ_TOKEN\"]=\"7e59b4419123f4ec6ceaa17aed0c710b9d656484d975aecae74c83d941e28abb0d1908a4cf870ed8fd267fc0ddab51aab1bed9bf\"\n",
    "os.environ[\"ZILLIZ_URI\"]=\"https://in03-209ae722b58c1e4.api.gcp-us-west1.zillizcloud.com\""
   ]
  },
  {
   "cell_type": "markdown",
   "metadata": {},
   "source": [
    "## Specification:\n",
    "\n",
    "1. Store notes in vector database\n",
    "2. Retrieve initial notes for query\n",
    "3. Use math tool and web search to begin solving problem while explaining steps\n",
    "4. Use all these in any order and however many times necessary to answer"
   ]
  },
  {
   "cell_type": "markdown",
   "metadata": {},
   "source": [
    "### Paul's Online Notes Calculus\n",
    "\n",
    "https://tutorial.math.lamar.edu/"
   ]
  },
  {
   "cell_type": "code",
   "execution_count": 4,
   "metadata": {},
   "outputs": [],
   "source": [
    "from langchain_community.document_loaders import PyPDFDirectoryLoader\n",
    "\n",
    "DIRECTORY_PATH = \"calculus_notes/\"\n",
    "CHUNK_SIZE = 2000\n",
    "CHUNK_OVERLAP = 40\n",
    "\n",
    "loader = PyPDFDirectoryLoader(DIRECTORY_PATH)\n",
    "pdf_content = loader.load()"
   ]
  },
  {
   "cell_type": "code",
   "execution_count": 5,
   "metadata": {},
   "outputs": [],
   "source": [
    "from langchain.text_splitter import CharacterTextSplitter\n",
    "text_splitter = CharacterTextSplitter(chunk_size=CHUNK_SIZE, chunk_overlap=CHUNK_OVERLAP)\n",
    "docs = text_splitter.split_documents(pdf_content)"
   ]
  },
  {
   "cell_type": "code",
   "execution_count": 6,
   "metadata": {},
   "outputs": [],
   "source": [
    "from langchain_nomic.embeddings import NomicEmbeddings\n",
    "embeddings = NomicEmbeddings(model=\"nomic-embed-text-v1.5\", inference_mode='local')"
   ]
  },
  {
   "cell_type": "code",
   "execution_count": 7,
   "metadata": {},
   "outputs": [],
   "source": [
    "from langchain.vectorstores import Qdrant\n",
    "qdrant = Qdrant.from_documents(\n",
    "    docs,\n",
    "    embeddings,\n",
    "    path=\"notes/calculus\",\n",
    "    collection_name=\"course_documents\",\n",
    "    force_recreate=True\n",
    ")"
   ]
  },
  {
   "cell_type": "code",
   "execution_count": 44,
   "metadata": {},
   "outputs": [],
   "source": [
    "from langchain_milvus import Zilliz\n",
    "\n",
    "vectorstore = Zilliz.from_documents(\n",
    "    documents=docs,\n",
    "    embedding=embeddings,\n",
    "    auto_id=True,\n",
    "    connection_args={\n",
    "        \"token\":os.environ.get(\"MILVUS_TOKEN\"),\n",
    "        \"uri\":os.environ.get(\"CLUSTER_ENDPOINT\")\n",
    "    }\n",
    ")"
   ]
  },
  {
   "cell_type": "code",
   "execution_count": 52,
   "metadata": {},
   "outputs": [],
   "source": [
    "# from pymilvus import connections\n",
    "# # Connect to your Zilliz Cloud instance\n",
    "# connections.connect(\n",
    "#     alias=\"default\", \n",
    "#     uri=os.environ.get(\"ZILLIZ_URI\"),\n",
    "#     token=os.environ.get(\"ZILLIZ_TOKEN\"),\n",
    "# )\n",
    "\n",
    "\n",
    "vectorstore = Zilliz(\n",
    "    embedding_function=embeddings,\n",
    "    collection_name=\"LangChainCollection\",\n",
    "    connection_args={\n",
    "        \"uri\":os.environ.get(\"ZILLIZ_URI\"),\n",
    "        \"token\":os.environ.get(\"ZILLIZ_TOKEN\"),\n",
    "    }\n",
    ")"
   ]
  },
  {
   "cell_type": "code",
   "execution_count": 53,
   "metadata": {},
   "outputs": [
    {
     "name": "stdout",
     "output_type": "stream",
     "text": [
      "Chapter 10 : Series and Sequences Section 10.10 : Ratio Test\n",
      "Again, we will run across factorials with parenthesis so don’t drop them. This is often one of the\n",
      "morecommonmistakesthatstudentsmakewhentheyfirstrunacrossfactorials.\n",
      "Okay,wearenowreadyforthetest.\n",
      "Ratio Test\n",
      "Supposewehavetheseries∑\n",
      "an. Define,\n",
      "L=lim\n",
      "n→∞⏐⏐⏐⏐an+1\n",
      "an⏐⏐⏐⏐\n",
      "Then,\n",
      "1.ifL < 1theseriesisabsolutelyconvergent(andhenceconvergent).\n",
      "2.ifL > 1theseriesisdivergent.\n",
      "3.ifL= 1theseriesmaybedivergent,conditionallyconvergent,orabsolutelyconver-\n",
      "gent.\n",
      "Aproofofthistestisattheendofthesection.\n",
      "Noticethatinthecaseof L= 1theratiotestisprettymuchworthlessandwewouldneedtoresort\n",
      "toadifferenttesttodeterminetheconvergenceoftheseries.\n",
      "Also, the absolute value bars in the definition of Lare absolutely required. If they are not there it\n",
      "willbeimpossibleforustogetthecorrectanswer.\n",
      "Let’stakealookatsomeexamples.\n",
      "Example 1\n",
      "Determineifthefollowingseriesisconvergentordivergent.\n",
      "∞∑\n",
      "n=1(−10)n\n",
      "42n+1(n+ 1)\n",
      "Solution\n",
      "With this first example let’s be a little careful and make sure that we have everything down\n",
      "correctly. Herearetheseriesterms an.\n",
      "an=(−10)n\n",
      "42n+1(n+ 1)\n",
      "© Paul Dawkins Calculus – 827 –\n"
     ]
    }
   ],
   "source": [
    "query = \"what is the ratio test?\"\n",
    "found_docs = vectorstore.similarity_search(query)\n",
    "\n",
    "print(found_docs[0].page_content)"
   ]
  },
  {
   "cell_type": "code",
   "execution_count": 46,
   "metadata": {},
   "outputs": [],
   "source": [
    "retriever = vectorstore.as_retriever(k=4)"
   ]
  },
  {
   "cell_type": "code",
   "execution_count": 54,
   "metadata": {},
   "outputs": [],
   "source": [
    "from langchain.tools import tool\n",
    "\n",
    "@tool\n",
    "def wolfram_call(query: str) -> str:\n",
    "    \"\"\"Calls the wolfram alpha api on query.\n",
    "\n",
    "    Args:\n",
    "        query (str): The query to use as a parameter in the function call. For example, \"Solve 3x=5\"\n",
    "\n",
    "    Returns:\n",
    "        str: Returns the result of the api call on the query.\n",
    "    \"\"\"\n",
    "    params = {\n",
    "        \"input\": query,\n",
    "        \"appid\": os.environ.get(\"WOLFRAM_ALPHA_APPID\"),\n",
    "        \"format\": \"plaintext\",\n",
    "        \"output\": \"json\",\n",
    "    }\n",
    "    response = requests.get(\"https://api.wolframalpha.com/v2/query\", params=params)\n",
    "    full_response = response.json()\n",
    "    pods = [x[\"subpods\"] for x in full_response[\"queryresult\"][\"pods\"]]\n",
    "    return str(pods)\n",
    "\n",
    "@tool\n",
    "def notes_search(query: str) -> str:\n",
    "    \"\"\"Calls the vector database of calculus notes to get any definitions, theorems, axioms, proofs, examples, information for summarizing.\n",
    "    The database contain notes for Calculus 1, 2 and 3. It covers the following topics:\n",
    "    limits, derivatives, derivative applications, integrals, integral applications, integration techniques, more integral applications, parametric and polar, series and sequences, vectors, 3-d space, partial derivatives, applications of partial derivatives, multiple integrals, line integrals, surface integrals, various calculus proofs, review of trignometry and functions.\n",
    "\n",
    "    Args:\n",
    "        query (str): the query sent to the vector database.\n",
    "\n",
    "    Returns:\n",
    "        str: Returns the documents retrieved from the vector database based on the query.\n",
    "    \"\"\"\n",
    "    return retriever.invoke(query)\n",
    "\n",
    "tools = [wolfram_call, notes_search]"
   ]
  },
  {
   "cell_type": "code",
   "execution_count": 10,
   "metadata": {},
   "outputs": [],
   "source": [
    "from langchain_core.prompts import ChatPromptTemplate, MessagesPlaceholder\n",
    "\n",
    "from langchain_groq import ChatGroq\n",
    "\n",
    "llm = ChatGroq(temperature=0, model=model)\n",
    "\n",
    "system = \"\"\"You are a mathematical assistant for a course on calculus. \n",
    "Create a plan to solve the question and then solve it in a step-by-step manner.\n",
    "You have 2 tools available. Before using any tool, explain the logic behind using it and the arguments given to the tool.\n",
    "Use the wolfram tool wherever it is possible to create a valid query to solve any algebra required in the steps of the problem.\n",
    "Use the notes_search tool as a reference whenever required or if you are unsure about anything to search the course notes for the precise definitions, theorems, axioms, proofs, examples or information for summarizing in calculus 1,2 and 3 and related topics. Explain whatever is retrieved using this tool.\"\"\"\n",
    "\n",
    "prompt = ChatPromptTemplate.from_messages(\n",
    "    [\n",
    "        (\"system\", system),\n",
    "        MessagesPlaceholder(\"chat_history\", optional=True),\n",
    "        ('human', '{input}'),\n",
    "        MessagesPlaceholder(\"agent_scratchpad\"),\n",
    "    ]\n",
    ")"
   ]
  },
  {
   "cell_type": "code",
   "execution_count": 11,
   "metadata": {},
   "outputs": [],
   "source": [
    "from langchain.agents import AgentExecutor, create_openai_tools_agent\n",
    "\n",
    "agent = create_openai_tools_agent(llm, tools, prompt)\n",
    "\n",
    "agent_executor = AgentExecutor(agent=agent, tools=tools, verbose=True)"
   ]
  },
  {
   "cell_type": "code",
   "execution_count": 37,
   "metadata": {},
   "outputs": [
    {
     "name": "stdout",
     "output_type": "stream",
     "text": [
      "\n",
      "\n",
      "\u001b[1m> Entering new AgentExecutor chain...\u001b[0m\n",
      "\u001b[32;1m\u001b[1;3m\n",
      "Invoking: `notes_search` with `{'query': 'summary of tests for series convergence and divergence in calculus 3 notes'}`\n",
      "\n",
      "\n",
      "\u001b[0m\u001b[33;1m\u001b[1;3m[Document(metadata={'source': 'calculus_notes/Calculus.pdf', 'page': 805, '_id': 'a78058190b6248a79a5557db74ec69b5', '_collection_name': 'course_documents'}, page_content='Chapter 10 : Series and Sequences Section 10.4 : Convergence & Divergence of Series\\nOne of the more common mistakes that students make when they first get into series is to as-\\nsume that if lim\\nn→∞an= 0then∑anwill converge. There is just no way to guarantee this so be\\ncareful!\\nLet’stakeaquicklookatanexampleofhowthistestcanbeused.\\nExample 5\\nDetermineifthefollowingseriesisconvergentordivergent.\\n∞∑\\nn=04n2−n3\\n10 + 2 n3\\nSolution\\nWith almost every series we’ll be looking at in this chapter the first thing that we should do\\nistakealookattheseriestermsandseeiftheygotozeroornot. Ifit’sclearthattheterms\\ndon’tgotozerousetheDivergenceTestandbedonewiththeproblem.\\nThat’swhatwe’lldohere.\\nlim\\nn→∞4n2−n3\\n10 + 2 n3=−1\\n2̸= 0\\nThelimitoftheseriestermsisn’tzeroandsobytheDivergenceTesttheseriesdiverges.\\nThe divergence test is the first test of many tests that we will be looking at over the course of the\\nnext several sections. You will need to keep track of all these tests, the conditions under which\\nthey can be used and their conclusions all in one place so you can quickly refer back to them as\\nyouneedto.\\nNext we should briefly revisit arithmetic of series and convergence/divergence. As we saw in the\\nprevioussectionif∑anand∑bnarebothconvergentseriesthensoare∑canand∞∑\\nn=k(an±bn).\\nFurthermore,theseserieswillhavethefollowingsumsorvalues.\\n∑\\ncan=c∑\\nan∞∑\\nn=k(an±bn) =∞∑\\nn=kan±∞∑\\nn=kbn\\nWe’ll see an example of this in the next section after we get a few more examples under our\\nbelt. At this point just remember that a sum of convergent series is convergent and multiplying a\\nconvergentseriesbyanumberwillnotchangeitsconvergence.\\nWeneedtobealittlecarefulwiththesefactswhenitcomestodivergentseries. Inthefirstcaseif∑anisdivergentthen∑canwillalsobedivergent(provided cisn’tzeroofcourse)sincemultiplying\\na series that is infinite in value or doesn’t have a value by a finite value ( i.e. c) won’t change the\\n© Paul Dawkins Calculus – 778 –'), Document(metadata={'source': 'calculus_notes/Calculus.pdf', 'page': 20, '_id': '842ff4d168e2413cbae81327b8d4118a', '_collection_name': 'course_documents'}, page_content='Outline\\ndetermine if an infinite series converges or diverges. We will also give the DivergenceTest\\nforseriesinthissection.\\nSpecial Series - In this section we will look at three series that either show up regularly or\\nhave some nice properties that we wish to discuss. We will examine Geometric Series,\\nTelescopingSeries,andHarmonicSeries.\\nIntegral Test - In this section we will discuss using the Integral Test to determine if an infi-\\nnite series converges or diverges. The Integral Test can be used on an infinite series pro-\\nvidedthetermsoftheseriesarepositiveanddecreasing. AproofoftheIntegralTestisalso\\ngiven.\\nComparisonTest/LimitComparisonTest -InthissectionwewilldiscussusingtheComparison\\nTestandLimitComparisonTeststodetermineifaninfiniteseriesconvergesordiverges. In\\nordertouseeithertestthetermsoftheinfiniteseriesmustbepositive. Proofsforbothtests\\narealsogiven.\\nAlternating Series Test - In this section we will discuss using theAlternating Series Test to\\ndetermineifaninfiniteseriesconvergesordiverges. TheAlternatingSeriesTestcanbeused\\nonly if the terms of the series alternate in sign. Aproof of theAlternating SeriesTest is also\\ngiven.\\nAbsolute Convergence - In this section we will have a brief discussion of absolute con-\\nvergence and conditionally convergent and how they relate to convergence of infinite se-\\nries.\\nRatio Test - In this section we will discuss using the Ratio Test to determine if an infinite\\nseries converges absolutely or diverges. The Ratio Test can be used on any series, but\\nunfortunatelywillnotalwaysyieldaconclusiveanswerastowhetheraserieswillconverge\\nabsolutelyordiverge. AproofoftheRatioTestisalsogiven.\\nRootTest -InthissectionwewilldiscussusingtheRootTesttodetermineifaninfiniteseries\\nconvergesabsolutelyordiverges. TheRootTestcanbeusedonanyseries,butunfortunately\\nwill not always yield a conclusive answer as to whether a series will converge absolutely or\\ndiverge. AproofoftheRootTestisalsogiven.\\nStrategyforSeries -Inthissectionwegiveageneralsetofguidelinesfordeterminingwhich\\ntesttouseindeterminingifaninfiniteserieswillconvergeordiverge. Noteaswellthatthere\\nreallyisn’tonesetofguidelinesthatwillalwaysworkandsoyoualwaysneedtobeflexiblein\\nfollowingthissetofguidelines. Asummaryofallthevarioustests,aswellasconditionsthat\\nmustbemettousethem,wediscussedinthischapterarealsogiveninthissection.\\nEstimatingtheValueofaSeries -InthissectionwewilldiscusshowtheIntegralTest,Com-\\nparisonTest,AlternatingSeriesTestandtheRatioTestcan,onoccasion,beusedtoestimate\\nthevalueofaninfiniteseries.\\nPower Series - In this section we will give the definition of the power series as well as the\\ndefinition of the radius of convergence and interval of convergence for a power series. We\\n© Paul Dawkins Calculus – xx –'), Document(metadata={'source': 'calculus_notes/Calculus.pdf', 'page': 866, '_id': '1b6dfda4b3f14f1299d3134e1f3b5d18', '_collection_name': 'course_documents'}, page_content='Chapter 10 : Series and Sequences Section 10.12 : Strategy for Series\\nAgain,rememberthattheseareonlyasetofguidelinesandnotasetofhardandfastrulestouse\\nwhentryingtodeterminethebesttesttouseonaseries. Ifmorethanonetestcanbeusedtryto\\nuse the test that will be the easiest for you to use and remember that what is easy for someone\\nelsemaynotbeeasyforyou!\\nAlso,justsowecanputallthetestsintooneplacehereisaquicklistingofalltheteststhatwe’ve\\ngot.\\nDivergence Test\\nIf lim\\nn→∞an̸= 0then∑\\nanwilldiverge\\nIntegral Test\\nSuppose that f(x)is a positive, decreasing function on the interval [k,∞)and that f(n) =an\\nthen,\\n1.If∫∞\\nkf(x)dxisconvergentthensois∞∑\\nn=kan.\\n2.If∫∞\\nkf(x)dxisdivergentthensois∞∑\\nn=kan.\\nComparison Test\\nSuppose that we have two series∑\\nanand∑\\nbnwithan, bn≥0for all nandan≤bnfor all n.\\nThen,\\n1.If∑\\nbnisconvergentthensois∑\\nan.\\n2.If∑\\nanisdivergentthensois∑\\nbn.\\nLimit Comparison Test\\nSupposethatwehavetwoseries∑\\nanand∑\\nbnwithan, bn≥0forall n. Define,\\nc=lim\\nn→∞an\\nbn\\nIfcis positive ( i.e.c >0) and is finite ( i.e.c <∞) then either both series converge or both series\\ndiverge.\\nAlternating Series Test\\nSuppose that we have a series∑\\nanand either an= (−1)nbnoran= (−1)n+1bnwhere bn≥0\\nforall n. Thenif,\\n1.lim\\nn→∞bn= 0and,\\n2.{bn}iseventuallyadecreasingsequence\\ntheseries∑\\nanisconvergent\\n© Paul Dawkins Calculus – 839 –'), Document(metadata={'source': 'calculus_notes/Calculus.pdf', 'page': 803, '_id': 'b06a43c7d9d047dd8a3aee3f997f16b5', '_collection_name': 'course_documents'}, page_content='Chapter 10 : Series and Sequences Section 10.4 : Convergence & Divergence of Series\\nInthiscasethelimitofthesequenceofpartialsumsis,\\nlim\\nn→∞sn=lim\\nn→∞3\\n2(\\n1−1\\n3n)\\n=3\\n2\\nThesequenceofpartialsumsisconvergentandsotheserieswillalsobeconvergent. The\\nvalueoftheseriesis,\\n∞∑\\nn=11\\n3n−1=3\\n2\\nAs we already noted, do not get excited about determining the general formula for the sequence\\nofpartialsums. Thereisonlygoingtobeonetypeofserieswhereyouwillneedtodeterminethis\\nformulaandtheprocessinthatcaseisn’ttoobad. Infact,youalreadyknowhowtodomostofthe\\nworkintheprocessasyou’llseeinthenextsection.\\nSo, we’ve determined the convergence of four series now. Two of the series converged and two\\ndiverged. Let’s go back and examine the series terms for each of these. For each of the series\\nlet’stakethelimitas ngoestoinfinityoftheseriesterms(notthepartialsums!!).\\nlim\\nn→∞n=∞ thisseriesdiverged\\nlim\\nn→∞1\\nn2−1= 0 thisseriesconverged\\nlim\\nn→∞(−1)ndoesn’texist thisseriesdiverged\\nlim\\nn→∞1\\n3n−1= 0 thisseriesconverged\\nNotice that for the two series that converged the series term itself was zero in the limit. This will\\nalwaysbetrueforconvergentseriesandleadstothefollowingtheorem.\\nTheorem\\nIf∑anconvergesthen lim\\nn→∞an= 0.\\nProof\\nFirstlet’ssupposethattheseriesstartsat n= 1. Ifitdoesn’tthenwecanmodifythingsas\\nappropriatebelow. Thenthepartialsumsare,\\nsn−1=n−1∑\\ni=1ai=a1+a2+a3+a4+···+an−1sn=n∑\\ni=1ai=a1+a2+a3+a4+···+an−1+an\\nNext,wecanusethesetwopartialsumstowrite,\\nan=sn−sn−1\\n© Paul Dawkins Calculus – 776 –')]\u001b[0m\u001b[32;1m\u001b[1;3mThe tests for checking series convergence and divergence are:\n",
      "\n",
      "1. Divergence Test: If the limit of the series terms is not zero, then the series diverges.\n",
      "2. Integral Test: If the integral of the series terms is convergent, then the series is convergent. If the integral is divergent, then the series is divergent.\n",
      "3. Comparison Test: If the series terms are positive and decreasing, and the series is less than or equal to a convergent series, then the series is convergent. If the series is greater than or equal to a divergent series, then the series is divergent.\n",
      "4. Limit Comparison Test: If the limit of the ratio of the series terms is positive and finite, then either both series converge or both series diverge.\n",
      "5. Alternating Series Test: If the series terms alternate in sign, and the limit of the series terms is zero, and the series is decreasing, then the series is convergent.\n",
      "\n",
      "These tests can be used to determine whether a series converges or diverges. It's important to note that these tests are only guidelines and may not always yield a conclusive answer.\u001b[0m\n",
      "\n",
      "\u001b[1m> Finished chain.\u001b[0m\n"
     ]
    }
   ],
   "source": [
    "result = agent_executor.invoke({\"input\": \"Give a summary of the tests for checking series convergence and divergence\"})"
   ]
  },
  {
   "cell_type": "code",
   "execution_count": 30,
   "metadata": {},
   "outputs": [
    {
     "name": "stdout",
     "output_type": "stream",
     "text": [
      "\n",
      "\n",
      "\u001b[1m> Entering new AgentExecutor chain...\u001b[0m\n",
      "\u001b[32;1m\u001b[1;3m\n",
      "Invoking: `notes_search` with `{'query': 'chain rule derivation'}`\n",
      "\n",
      "\n",
      "\u001b[0m\u001b[33;1m\u001b[1;3m[Document(metadata={'source': 'calculus_notes/Calculus.pdf', 'page': 273, '_id': '0c1dcac30b654926bdcdadcbaaa46c18', '_collection_name': 'course_documents'}, page_content='Chapter 3 : Derivatives Section 3.9 : Chain Rule\\nSo, in the first term the outside function is the exponent of 4and the inside function\\nis the cosine. In the second term it’s exactly the opposite. In the second term the\\noutside function is the cosine and the inside function is t4. Here’s the derivative for\\nthisfunction.\\nP′(t) = 4cos3(t) (−sin(t))−sin(\\nt4)(\\n4t3)\\n=−4sin(t)cos3(t)−4t3sin(\\nt4)\\nThere are a couple of general formulas that we can get for some special cases of the chain rule.\\nLet’stakeaquicklookatthose.\\nExample 3\\nDifferentiateeachofthefollowing.\\n(a)f(x) = [g(x)]n\\n(b)f(x) =eg(x)\\n(c)f(x) =ln(g(x))\\nSolution\\n(a)f(x) = [g(x)]n\\nTheoutsidefunctionistheexponentandtheinsideis g(x).\\nf′(x) =n[g(x)]n−1g′(x)\\n(b)f(x) =eg(x)\\nTheoutsidefunctionistheexponentialfunctionandtheinsideis g(x).\\nf′(x) =g′(x)eg(x)\\n(c)f(x) =ln(g(x))\\nTheoutsidefunctionisthelogarithmandtheinsideis g(x).\\nf′(x) =1\\ng(x)g′(x) =g′(x)\\ng(x)\\n© Paul Dawkins Calculus – 246 –'), Document(metadata={'source': 'calculus_notes/Calculus.pdf', 'page': 269, '_id': '7e1d35de2eb14c188da6670de6d592fd', '_collection_name': 'course_documents'}, page_content='Chapter 3 : Derivatives Section 3.9 : Chain Rule\\nChain Rule\\nSupposethatwehavetwofunctions f(x)andg(x)andtheyarebothdifferentiable.\\n1.Ifwedefine F(x) = (f◦g) (x)thenthederivativeof F(x)is,\\nF′(x) =f′(g(x))g′(x)\\n2.Ifwehave y=f(u)andu=g(x)thenthederivativeof yis,\\ndy\\ndx=dy\\ndudu\\ndx\\nEachoftheseformshavetheiruses, howeverwewillworkmostlywiththefirstforminthisclass.\\nTo see the proof of the Chain Rule see the Proof of Various Derivative Formulas section of the\\nExtrasappendix.\\nNow, let’s go back and use the Chain Rule on the function that we used when we opened this\\nsection.\\nExample 1\\nUsetheChainRuletodifferentiate R(z) =√5z−8.\\nSolution\\nWe’vealreadyidentifiedthetwofunctionsthatweneededforthecomposition,butlet’swrite\\nthembackdownanywayandtaketheirderivatives.\\nf(z) =√z g (z) = 5 z−8\\nf′(z) =1\\n2√zg′(z) = 5\\nSo,usingthechainruleweget,\\nR′(z) =f′(\\ng(z))\\ng′(z)\\n=f′(\\n5z−8)\\ng′(z)\\n=1\\n2(5z−8)−1\\n2(5)\\n=1\\n2√5z−8(5)\\n=5\\n2√5z−8\\nAndthisiswhatwegotusingthedefinitionofthederivative.\\n© Paul Dawkins Calculus – 242 –'), Document(metadata={'source': 'calculus_notes/Calculus.pdf', 'page': 1047, '_id': '0f71febf00dc434d9a56f53d6a7f1f05', '_collection_name': 'course_documents'}, page_content='Chapter 13 : Partial Derivatives Section 13.6 : Chain Rule\\nthis is, but it may help to illustrate the tree diagram if we already know the answer. For reference\\nhereisthechainruleforthiscase,\\n∂z\\n∂s=∂f\\n∂x∂x\\n∂s+∂f\\n∂y∂y\\n∂s\\nHereisthetreediagramforthiscase.\\nWe start at the top with the function itself and the branch out from that point. The first set of\\nbranchesisforthevariablesinthefunction. Fromeachoftheseendpointsweputdownafurther\\nset of branches that gives the variables that both xandyare a function of. We connect each\\nletterwithalineandeachlinerepresentsapartialderivativeasshown. Notethattheletterinthe\\nnumeratorofthepartialderivativeistheupper“node”ofthetreeandtheletterinthedenominator\\nofthepartialderivativeisthelower“node”ofthetree.\\nTo use this to get the chain rule we start at the bottom and for each branch that ends with the\\nvariable we want to take the derivative with respect to ( sin this case) we move up the tree until\\nwehitthetopmultiplyingthederivativesthatweseealongthatsetofbranches. Oncewe’vedone\\nthis for each branch that ends at s, we then add the results up to get the chain rule for that given\\nsituation.\\nNotethatwedon’talwaysputthederivativesinthetree. Someofthetreesgetalittlelarge/messy\\nandsowewon’tputinthederivatives. Justrememberwhatderivativeshouldbeoneachbranch\\nandyou’llbeokaywithoutactuallywritingthemdown.\\nLet’swritedownsomechainrules.\\nExample 4\\nUseatreediagramtowritedownthechainruleforthegivenderivatives.\\n(a)dw\\ndtforw=f(x, y, z ),x=g1(t),y=g2(t),and z=g3(t)\\n(b)∂w\\n∂rforw=f(x, y, z ),x=g1(s, t, r ),y=g2(s, t, r ),and z=g3(s, t, r )\\n© Paul Dawkins Calculus – 1020 –'), Document(metadata={'source': 'calculus_notes/Calculus.pdf', 'page': 276, '_id': '841370247d6b448cb1eb5c6ff0f763d3', '_collection_name': 'course_documents'}, page_content='Chapter 3 : Derivatives Section 3.9 : Chain Rule\\n(d)h(t) =(2t+ 3\\n6−t2)3\\nUnlike the previous problem the first step for derivative is to use the chain rule and\\nthenoncewegotodifferentiatetheinsidefunctionwe’llneedtodothequotientrule.\\nHereistheworkforthisproblem.\\nh′(t) = 3(2t+ 3\\n6−t2)2d\\ndt[2t+ 3\\n6−t2]\\n= 3(2t+ 3\\n6−t2)2[\\n2(\\n6−t2)\\n−(2t+ 3) (−2t)\\n(6−t2)2]\\n= 3(2t+ 3\\n6−t2)2[2t2+ 6t+ 12\\n(6−t2)2]\\nAswiththesecondpartabovewedidnotinitiallydifferentiatetheinsidefunctioninthe\\nfirststeptomakeitclearthatitwouldbequotientrulefromthatpointon.\\nTherewereseveralpointsinthelastexample. Firstistonotforgetthatwe’vestillgototherderiva-\\ntives rules that are still needed on occasion. Just because we now have the chain rule does not\\nmeanthattheproductandquotientrulewillnolongerbeneeded.\\nInaddition,asthelastexampleillustrated,theorderinwhichtheyaredonewillvaryaswell. Some\\nproblems will be product or quotient rule problems that involve the chain rule. Other problems\\nhowever,willfirstrequiretheusethechainruleandintheprocessofdoingthatwe’llneedtouse\\ntheproductand/orquotientrule.\\nMostoftheexamplesinthissectionwon’tinvolvetheproductorquotientruletomaketheproblems\\na little shorter. However, in practice they will often be in the same problem so you need to be\\npreparedforthesekindsofproblems.\\nNow,let’stakealookatsomemorecomplicatedexamples.\\n© Paul Dawkins Calculus – 249 –')]\u001b[0m\u001b[32;1m\u001b[1;3mThe chain rule in derivation is a rule used to differentiate composite functions. It states that if we have two functions f(x) and g(x) and they are both differentiable, then the derivative of the composite function F(x) = (f ∘ g)(x) is given by F'(x) = f'(g(x))g'(x).\n",
      "\n",
      "In other words, the chain rule allows us to differentiate a composite function by differentiating the outer function and then multiplying it by the derivative of the inner function.\n",
      "\n",
      "For example, if we have a function R(z) = √5z - 8, we can use the chain rule to differentiate it. We first identify the outer function as the square root and the inner function as 5z - 8. Then, we take the derivative of the outer function, which is 1/2√5z - 8, and multiply it by the derivative of the inner function, which is 5. This gives us R'(z) = 5/2√5z - 8.\n",
      "\n",
      "The chain rule can also be used to differentiate more complex functions, such as functions that involve multiple variables. For example, if we have a function w = f(x, y, z), where x, y, and z are all functions of t, we can use the chain rule to differentiate w with respect to t. We first take the derivative of w with respect to x, y, and z, and then multiply it by the derivatives of x, y, and z with respect to t.\n",
      "\n",
      "Overall, the chain rule is a powerful tool for differentiating composite functions and is widely used in calculus and other areas of mathematics.\u001b[0m\n",
      "\n",
      "\u001b[1m> Finished chain.\u001b[0m\n"
     ]
    }
   ],
   "source": [
    "result = agent_executor.invoke({\"input\": \"What is the chain rule in derivation?\"})"
   ]
  },
  {
   "cell_type": "code",
   "execution_count": 19,
   "metadata": {},
   "outputs": [
    {
     "name": "stdout",
     "output_type": "stream",
     "text": [
      "\n",
      "\n",
      "\u001b[1m> Entering new AgentExecutor chain...\u001b[0m\n",
      "\u001b[32;1m\u001b[1;3m\n",
      "Invoking: `notes_search` with `{'query': 'ratio test definition and formula'}`\n",
      "\n",
      "\n",
      "\u001b[0m\u001b[33;1m\u001b[1;3m[Document(metadata={'source': 'calculus_notes/Calculus.pdf', 'page': 854, '_id': '73f71f7f4fee48c8a6774e9a626ea592', '_collection_name': 'course_documents'}, page_content='Chapter 10 : Series and Sequences Section 10.10 : Ratio Test\\nAgain, we will run across factorials with parenthesis so don’t drop them. This is often one of the\\nmorecommonmistakesthatstudentsmakewhentheyfirstrunacrossfactorials.\\nOkay,wearenowreadyforthetest.\\nRatio Test\\nSupposewehavetheseries∑\\nan. Define,\\nL=lim\\nn→∞⏐⏐⏐⏐an+1\\nan⏐⏐⏐⏐\\nThen,\\n1.ifL < 1theseriesisabsolutelyconvergent(andhenceconvergent).\\n2.ifL > 1theseriesisdivergent.\\n3.ifL= 1theseriesmaybedivergent,conditionallyconvergent,orabsolutelyconver-\\ngent.\\nAproofofthistestisattheendofthesection.\\nNoticethatinthecaseof L= 1theratiotestisprettymuchworthlessandwewouldneedtoresort\\ntoadifferenttesttodeterminetheconvergenceoftheseries.\\nAlso, the absolute value bars in the definition of Lare absolutely required. If they are not there it\\nwillbeimpossibleforustogetthecorrectanswer.\\nLet’stakealookatsomeexamples.\\nExample 1\\nDetermineifthefollowingseriesisconvergentordivergent.\\n∞∑\\nn=1(−10)n\\n42n+1(n+ 1)\\nSolution\\nWith this first example let’s be a little careful and make sure that we have everything down\\ncorrectly. Herearetheseriesterms an.\\nan=(−10)n\\n42n+1(n+ 1)\\n© Paul Dawkins Calculus – 827 –'), Document(metadata={'source': 'calculus_notes/Calculus.pdf', 'page': 867, '_id': '8c1bd0c4547e4c029cd7897255fcbfb1', '_collection_name': 'course_documents'}, page_content='Chapter 10 : Series and Sequences Section 10.12 : Strategy for Series\\nRatio Test\\nSupposewehavetheseries∑\\nan. Define,\\nL=lim\\nn→∞⏐⏐⏐⏐an+1\\nan⏐⏐⏐⏐\\nThen,\\n1.ifL < 1theseriesisabsolutelyconvergent(andhenceconvergent).\\n2.ifL > 1theseriesisdivergent.\\n3.ifL= 1theseriesmaybedivergent,conditionallyconvergent,orabsolutelyconvergent.\\nRoot Test\\nSupposethatwehavetheseries∑\\nan. Define,\\nL=lim\\nn→∞n√\\n|an|=lim\\nn→∞|an|1\\nn\\nThen,\\n1.ifL < 1theseriesisabsolutelyconvergent(andhenceconvergent).\\n2.ifL > 1theseriesisdivergent.\\n3.ifL= 1theseriesmaybedivergent,conditionallyconvergent,orabsolutelyconvergent.\\n© Paul Dawkins Calculus – 840 –'), Document(metadata={'source': 'calculus_notes/Calculus.pdf', 'page': 859, '_id': 'bad41c562bb94d0d9ff34c2a54609c54', '_collection_name': 'course_documents'}, page_content='Chapter 10 : Series and Sequences Section 10.10 : Ratio Test\\nThere is one more thing that we should note about the ratio test before we move onto the next\\nsection. The last series was a polynomial divided by a polynomial and we saw that we got L= 1\\nfromtheratiotest. Thiswillalwayshappenwithrationalexpressionsinvolvingonlypolynomialsor\\npolynomialsunderradicals. So,inthefutureitisn’tevenworthittotrytheratiotestonthesekinds\\nofproblemssincewenowknowthatwewillget L= 1.\\nAlso,inthesecondtolastexamplewesawanexampleofanalternatingseriesinwhichthepositive\\ntermwasarationalexpressioninvolvingpolynomialsandagainwewillalwaysget L= 1inthese\\ncases.\\nLet’sclosethesectionoutwithaproofoftheRatioTest.\\nProof of Ratio Test\\nFirst note that we can assume without loss of generality that the series will start at n= 1\\naswe’vedoneforallourseriestestproofs.\\nLet’s start off the proof here by assuming that L < 1and we’ll need to show that∑anis\\nabsolutelyconvergent. Todothislet’sfirstnotethatbecause L < 1thereissomenumber\\nrsuchthat L < r < 1.\\nNow,recallthat,\\nL=lim\\nn→∞⏐⏐⏐⏐an+1\\nan⏐⏐⏐⏐\\nand because we also have chosen rsuch that L < rthere is some Nsuch that if n≥N\\nwewillhave, ⏐⏐⏐⏐an+1\\nan⏐⏐⏐⏐< r ⇒ | an+1|< r|an|\\nNext,considerthefollowing,\\n|aN+1|< r|aN|\\n|aN+2|< r|aN+1|< r2|aN|\\n|aN+3|< r|aN+2|< r3|aN|\\n...\\n|aN+k|< r|aN+k−1|< rk|aN|\\nSo, for k= 1,2,3, . . .we have |aN+k|< rk|aN|. Just why is this important? Well we can\\nnowlookatthefollowingseries.\\n∞∑\\nk=0|aN|rk\\nThis is a geometric series and because 0< r < 1we in fact know that it is a convergent\\n© Paul Dawkins Calculus – 832 –'), Document(metadata={'source': 'calculus_notes/Calculus.pdf', 'page': 858, '_id': '52c57516105f44088d240037cbdfdb26', '_collection_name': 'course_documents'}, page_content='Chapter 10 : Series and Sequences Section 10.10 : Ratio Test\\nLet’sfirstget L.\\nL=lim\\nn→∞⏐⏐⏐⏐⏐(−1)n+1\\n(n+ 1)2+ 1n2+ 1\\n(−1)n⏐⏐⏐⏐⏐=lim\\nn→∞n2+ 1\\n(n+ 1)2+ 1= 1\\nSo, as implied earlier we get L= 1which means the ratio test is no good for determining\\nthe convergence of this series. We will need to resort to another test for this series. This\\nseriesisanalternatingseriesandsolet’scheckthetwoconditionsfromthattest.\\nlim\\nn→∞bn=lim\\nn→∞1\\nn2+ 1= 0\\nbn=1\\nn2+ 1>1\\n(n+ 1)2+ 1=bn+1\\nThe two conditions are met and so by theAlternating SeriesTest this series is convergent.\\nWe’llleaveittoyoutoverifythisseriesisalsoabsolutelyconvergent.\\nExample 6\\nDetermineifthefollowingseriesisconvergentordivergent.\\n∞∑\\nn=0n+ 2\\n2n+ 7\\nSolution\\nHere’sthelimit.\\nL=lim\\nn→∞⏐⏐⏐⏐n+ 3\\n2 (n+ 1) + 72n+ 7\\nn+ 2⏐⏐⏐⏐=lim\\nn→∞(n+ 3) (2 n+ 7)\\n(2n+ 9) ( n+ 2)= 1\\nAgain,theratiotesttellsusnothinghere. Wecanhowever,quicklyusethedivergencetest\\nonthis. Infactthatprobablyshouldhavebeenourfirstchoiceonthisoneanyway.\\nlim\\nn→∞n+ 2\\n2n+ 7=1\\n2̸= 0\\nBytheDivergenceTestthisseriesisdivergent.\\nSo, as we saw in the previous two examples if we get L= 1from the ratio test the series can be\\neitherconvergentordivergent.\\n© Paul Dawkins Calculus – 831 –')]\u001b[0m\u001b[32;1m\u001b[1;3m\n",
      "Invoking: `wolfram_call` with `{'query': 'limit of ((2(n+1))!/(5(n+1)+1)) / ((2n)!/(5n+1)) as n approaches infinity'}`\n",
      "\n",
      "\n",
      "\u001b[0m\u001b[36;1m\u001b[1;3m[[{'title': '', 'plaintext': 'lim_(n->∞) ((2 (n + 1))!)/(((5 (n + 1) + 1) (2 n)!)/(5 n + 1)) = ∞'}], [{'title': '', 'plaintext': '4 n^2 + 2 n + 4/5 - 14/(25 n) + O((1/n)^(3/2))\\n(Laurent series)'}]]\u001b[0m\u001b[32;1m\u001b[1;3mThe ratio test is used to determine if a series is convergent or divergent. It is defined as L = lim (n→∞) |(a(n+1))/a(n)|. If L < 1, the series is absolutely convergent (and hence convergent). If L > 1, the series is divergent. If L = 1, the series may be divergent, conditionally convergent, or absolutely convergent.\n",
      "\n",
      "To use the ratio test to find if the series of (2n)!/(5n+1) converges or diverges, we need to find the limit of |a(n+1)/a(n)| as n approaches infinity.\n",
      "\n",
      "The limit of ((2(n+1))!)/(((5(n+1)+1)(2n)!)/(5n+1)) as n approaches infinity is infinity. This means that L > 1, and therefore the series is divergent.\n",
      "\n",
      "In summary, the ratio test is used to determine if a series is convergent or divergent by finding the limit of |a(n+1)/a(n)| as n approaches infinity. If the limit is less than 1, the series is absolutely convergent. If the limit is greater than 1, the series is divergent. If the limit is equal to 1, the series may be divergent, conditionally convergent, or absolutely convergent. In this case, the limit of ((2(n+1))!)/(((5(n+1)+1)(2n)!)/(5n+1)) as n approaches infinity is infinity, which means that the series is divergent.\u001b[0m\n",
      "\n",
      "\u001b[1m> Finished chain.\u001b[0m\n"
     ]
    }
   ],
   "source": [
    "result = agent_executor.invoke({\"input\": \"What is the ratio test and how do you use it to find if the series of (2n)!/(5n+1) converges or diverges?\"})"
   ]
  },
  {
   "cell_type": "code",
   "execution_count": 24,
   "metadata": {},
   "outputs": [
    {
     "name": "stderr",
     "output_type": "stream",
     "text": [
      "2024-08-22 09:49:09.094 Session state does not function when running a script without `streamlit run`\n"
     ]
    },
    {
     "name": "stdout",
     "output_type": "stream",
     "text": [
      "\n",
      "\n",
      "\u001b[1m> Entering new AgentExecutor chain...\u001b[0m\n",
      "\u001b[32;1m\u001b[1;3mI don't see a question to solve. Please provide the question you'd like me to assist with, and I'll create a plan to solve it and then solve it in a step-by-step manner using the available tools.\u001b[0m\n",
      "\n",
      "\u001b[1m> Finished chain.\u001b[0m\n"
     ]
    }
   ],
   "source": [
    "import streamlit as st\n",
    "\n",
    "if \"messages\" not in st.session_state:\n",
    "    st.session_state.messages = []\n",
    "    \n",
    "for message in st.session_state.messages:\n",
    "    with st.chat_message(message[\"role\"]):\n",
    "        st.markdown(message[\"content\"])\n",
    "        \n",
    "if prompt := st.chat_input(\"What is up?\"):\n",
    "    # Add user message to chat history\n",
    "    st.session_state.messages.append({\"role\": \"user\", \"content\": prompt})\n",
    "    # Display user message in chat message container\n",
    "    with st.chat_message(\"user\"):\n",
    "        st.markdown(prompt)\n",
    "\n",
    "# Display assistant response in chat message container\n",
    "with st.chat_message(\"assistant\"):\n",
    "    response = st.write_stream(agent_executor.invoke({\"input\": prompt}))\n",
    "st.session_state.messages.append({\"role\": \"assistant\", \"content\": response})\n"
   ]
  },
  {
   "cell_type": "code",
   "execution_count": 12,
   "metadata": {},
   "outputs": [],
   "source": [
    "from langgraph.checkpoint.memory import MemorySaver  # an in-memory checkpointer\n",
    "from langgraph.prebuilt import create_react_agent\n",
    "\n",
    "memory = MemorySaver()\n",
    "app = create_react_agent(llm, tools, state_modifier=system, checkpointer=memory)\n",
    "config = {\"configurable\": {\"thread_id\": \"test-thread\"}}"
   ]
  },
  {
   "cell_type": "code",
   "execution_count": 55,
   "metadata": {},
   "outputs": [],
   "source": [
    "result = app.invoke(\n",
    "    {\n",
    "        \"messages\": [\n",
    "            (\"user\", \"Solve 2+3\")\n",
    "        ]\n",
    "    },\n",
    "    config,\n",
    ")"
   ]
  },
  {
   "cell_type": "code",
   "execution_count": 40,
   "metadata": {},
   "outputs": [
    {
     "data": {
      "text/plain": [
       "[HumanMessage(content='Solve 2+3', id='d75c4469-22d3-497c-82ba-9e6d9128f92d'),\n",
       " AIMessage(content='', additional_kwargs={'tool_calls': [{'id': 'call_zkcr', 'function': {'arguments': '{\"query\": \"2+3\"}', 'name': 'wolfram_call'}, 'type': 'function'}]}, response_metadata={'token_usage': {'completion_tokens': 18, 'prompt_tokens': 830, 'total_tokens': 848, 'completion_time': 0.072113553, 'prompt_time': 0.221714566, 'queue_time': 0.209402568, 'total_time': 0.293828119}, 'model_name': 'llama-3.1-70b-versatile', 'system_fingerprint': 'fp_9260b4bb2e', 'finish_reason': 'tool_calls', 'logprobs': None}, id='run-556f5b79-4f43-46cd-99f4-820cbe78c985-0', tool_calls=[{'name': 'wolfram_call', 'args': {'query': '2+3'}, 'id': 'call_zkcr', 'type': 'tool_call'}], usage_metadata={'input_tokens': 830, 'output_tokens': 18, 'total_tokens': 848}),\n",
       " ToolMessage(content=\"[[{'title': '', 'plaintext': '2 + 3'}], [{'title': '', 'plaintext': '5'}], [{'title': '', 'plaintext': ''}], [{'title': '', 'plaintext': 'five'}], [{'title': '', 'plaintext': ' | + | | = | \\\\n2 | | 3 | | 5'}], [{'title': '', 'microsources': {'microsource': 'HumanComputationQuery'}, 'plaintext': 'age 6: 4.2 seconds | age 8: 2.2 seconds | age 10: 1.3 seconds | \\\\nage 18: 0.85 seconds\\\\n(ignoring concentration, repetition, variations in education, etc.)'}]]\", name='wolfram_call', id='6b0c2663-2b12-44e3-8e51-4a804614a1e5', tool_call_id='call_zkcr'),\n",
       " AIMessage(content='The solution to 2+3 is 5.', response_metadata={'token_usage': {'completion_tokens': 12, 'prompt_tokens': 1009, 'total_tokens': 1021, 'completion_time': 0.048118615, 'prompt_time': 0.251697482, 'queue_time': 0.009842771000000028, 'total_time': 0.299816097}, 'model_name': 'llama-3.1-70b-versatile', 'system_fingerprint': 'fp_9260b4bb2e', 'finish_reason': 'stop', 'logprobs': None}, id='run-61180a07-b661-495b-8779-7ad2062aaf2c-0', usage_metadata={'input_tokens': 1009, 'output_tokens': 12, 'total_tokens': 1021}),\n",
       " HumanMessage(content='What is the ratio test?', id='7b63ac79-f79d-42dc-a708-6c802f69f292'),\n",
       " AIMessage(content='', additional_kwargs={'tool_calls': [{'id': 'call_e025', 'function': {'arguments': '{\"query\": \"ratio test definition\"}', 'name': 'notes_search'}, 'type': 'function'}]}, response_metadata={'token_usage': {'completion_tokens': 17, 'prompt_tokens': 1036, 'total_tokens': 1053, 'completion_time': 0.068, 'prompt_time': 0.260166005, 'queue_time': 0.0066135540000000215, 'total_time': 0.328166005}, 'model_name': 'llama-3.1-70b-versatile', 'system_fingerprint': 'fp_5c5d1b5cfb', 'finish_reason': 'tool_calls', 'logprobs': None}, id='run-fec8c922-20fc-4677-84b7-b406362bf084-0', tool_calls=[{'name': 'notes_search', 'args': {'query': 'ratio test definition'}, 'id': 'call_e025', 'type': 'tool_call'}], usage_metadata={'input_tokens': 1036, 'output_tokens': 17, 'total_tokens': 1053}),\n",
       " ToolMessage(content=\"[Document(metadata={'source': 'calculus_notes/Calculus.pdf', 'page': 854, '_id': '6668ebb4cef24e03956b017836c6feb1', '_collection_name': 'course_documents'}, page_content='Chapter 10 : Series and Sequences Section 10.10 : Ratio Test\\\\nAgain, we will run across factorials with parenthesis so don’t drop them. This is often one of the\\\\nmorecommonmistakesthatstudentsmakewhentheyfirstrunacrossfactorials.\\\\nOkay,wearenowreadyforthetest.\\\\nRatio Test\\\\nSupposewehavetheseries∑\\\\nan. Define,\\\\nL=lim\\\\nn→∞⏐⏐⏐⏐an+1\\\\nan⏐⏐⏐⏐\\\\nThen,\\\\n1.ifL < 1theseriesisabsolutelyconvergent(andhenceconvergent).\\\\n2.ifL > 1theseriesisdivergent.\\\\n3.ifL= 1theseriesmaybedivergent,conditionallyconvergent,orabsolutelyconver-\\\\ngent.\\\\nAproofofthistestisattheendofthesection.\\\\nNoticethatinthecaseof L= 1theratiotestisprettymuchworthlessandwewouldneedtoresort\\\\ntoadifferenttesttodeterminetheconvergenceoftheseries.\\\\nAlso, the absolute value bars in the definition of Lare absolutely required. If they are not there it\\\\nwillbeimpossibleforustogetthecorrectanswer.\\\\nLet’stakealookatsomeexamples.\\\\nExample 1\\\\nDetermineifthefollowingseriesisconvergentordivergent.\\\\n∞∑\\\\nn=1(−10)n\\\\n42n+1(n+ 1)\\\\nSolution\\\\nWith this first example let’s be a little careful and make sure that we have everything down\\\\ncorrectly. Herearetheseriesterms an.\\\\nan=(−10)n\\\\n42n+1(n+ 1)\\\\n© Paul Dawkins Calculus – 827 –'), Document(metadata={'source': 'calculus_notes/Calculus.pdf', 'page': 867, '_id': 'e7e41bf2f5fe4435bff18d53fbafef92', '_collection_name': 'course_documents'}, page_content='Chapter 10 : Series and Sequences Section 10.12 : Strategy for Series\\\\nRatio Test\\\\nSupposewehavetheseries∑\\\\nan. Define,\\\\nL=lim\\\\nn→∞⏐⏐⏐⏐an+1\\\\nan⏐⏐⏐⏐\\\\nThen,\\\\n1.ifL < 1theseriesisabsolutelyconvergent(andhenceconvergent).\\\\n2.ifL > 1theseriesisdivergent.\\\\n3.ifL= 1theseriesmaybedivergent,conditionallyconvergent,orabsolutelyconvergent.\\\\nRoot Test\\\\nSupposethatwehavetheseries∑\\\\nan. Define,\\\\nL=lim\\\\nn→∞n√\\\\n|an|=lim\\\\nn→∞|an|1\\\\nn\\\\nThen,\\\\n1.ifL < 1theseriesisabsolutelyconvergent(andhenceconvergent).\\\\n2.ifL > 1theseriesisdivergent.\\\\n3.ifL= 1theseriesmaybedivergent,conditionallyconvergent,orabsolutelyconvergent.\\\\n© Paul Dawkins Calculus – 840 –'), Document(metadata={'source': 'calculus_notes/Calculus.pdf', 'page': 859, '_id': 'c01a765e24ee4bd9ba1cb7c2cf5aaade', '_collection_name': 'course_documents'}, page_content='Chapter 10 : Series and Sequences Section 10.10 : Ratio Test\\\\nThere is one more thing that we should note about the ratio test before we move onto the next\\\\nsection. The last series was a polynomial divided by a polynomial and we saw that we got L= 1\\\\nfromtheratiotest. Thiswillalwayshappenwithrationalexpressionsinvolvingonlypolynomialsor\\\\npolynomialsunderradicals. So,inthefutureitisn’tevenworthittotrytheratiotestonthesekinds\\\\nofproblemssincewenowknowthatwewillget L= 1.\\\\nAlso,inthesecondtolastexamplewesawanexampleofanalternatingseriesinwhichthepositive\\\\ntermwasarationalexpressioninvolvingpolynomialsandagainwewillalwaysget L= 1inthese\\\\ncases.\\\\nLet’sclosethesectionoutwithaproofoftheRatioTest.\\\\nProof of Ratio Test\\\\nFirst note that we can assume without loss of generality that the series will start at n= 1\\\\naswe’vedoneforallourseriestestproofs.\\\\nLet’s start off the proof here by assuming that L < 1and we’ll need to show that∑anis\\\\nabsolutelyconvergent. Todothislet’sfirstnotethatbecause L < 1thereissomenumber\\\\nrsuchthat L < r < 1.\\\\nNow,recallthat,\\\\nL=lim\\\\nn→∞⏐⏐⏐⏐an+1\\\\nan⏐⏐⏐⏐\\\\nand because we also have chosen rsuch that L < rthere is some Nsuch that if n≥N\\\\nwewillhave, ⏐⏐⏐⏐an+1\\\\nan⏐⏐⏐⏐< r ⇒ | an+1|< r|an|\\\\nNext,considerthefollowing,\\\\n|aN+1|< r|aN|\\\\n|aN+2|< r|aN+1|< r2|aN|\\\\n|aN+3|< r|aN+2|< r3|aN|\\\\n...\\\\n|aN+k|< r|aN+k−1|< rk|aN|\\\\nSo, for k= 1,2,3, . . .we have |aN+k|< rk|aN|. Just why is this important? Well we can\\\\nnowlookatthefollowingseries.\\\\n∞∑\\\\nk=0|aN|rk\\\\nThis is a geometric series and because 0< r < 1we in fact know that it is a convergent\\\\n© Paul Dawkins Calculus – 832 –'), Document(metadata={'source': 'calculus_notes/Calculus.pdf', 'page': 858, '_id': '0fbaf05055f6498da7757730e4a2eda3', '_collection_name': 'course_documents'}, page_content='Chapter 10 : Series and Sequences Section 10.10 : Ratio Test\\\\nLet’sfirstget L.\\\\nL=lim\\\\nn→∞⏐⏐⏐⏐⏐(−1)n+1\\\\n(n+ 1)2+ 1n2+ 1\\\\n(−1)n⏐⏐⏐⏐⏐=lim\\\\nn→∞n2+ 1\\\\n(n+ 1)2+ 1= 1\\\\nSo, as implied earlier we get L= 1which means the ratio test is no good for determining\\\\nthe convergence of this series. We will need to resort to another test for this series. This\\\\nseriesisanalternatingseriesandsolet’scheckthetwoconditionsfromthattest.\\\\nlim\\\\nn→∞bn=lim\\\\nn→∞1\\\\nn2+ 1= 0\\\\nbn=1\\\\nn2+ 1>1\\\\n(n+ 1)2+ 1=bn+1\\\\nThe two conditions are met and so by theAlternating SeriesTest this series is convergent.\\\\nWe’llleaveittoyoutoverifythisseriesisalsoabsolutelyconvergent.\\\\nExample 6\\\\nDetermineifthefollowingseriesisconvergentordivergent.\\\\n∞∑\\\\nn=0n+ 2\\\\n2n+ 7\\\\nSolution\\\\nHere’sthelimit.\\\\nL=lim\\\\nn→∞⏐⏐⏐⏐n+ 3\\\\n2 (n+ 1) + 72n+ 7\\\\nn+ 2⏐⏐⏐⏐=lim\\\\nn→∞(n+ 3) (2 n+ 7)\\\\n(2n+ 9) ( n+ 2)= 1\\\\nAgain,theratiotesttellsusnothinghere. Wecanhowever,quicklyusethedivergencetest\\\\nonthis. Infactthatprobablyshouldhavebeenourfirstchoiceonthisoneanyway.\\\\nlim\\\\nn→∞n+ 2\\\\n2n+ 7=1\\\\n2̸= 0\\\\nBytheDivergenceTestthisseriesisdivergent.\\\\nSo, as we saw in the previous two examples if we get L= 1from the ratio test the series can be\\\\neitherconvergentordivergent.\\\\n© Paul Dawkins Calculus – 831 –')]\", name='notes_search', id='39dd0522-64c3-4ae6-9801-abe319385358', tool_call_id='call_e025'),\n",
       " AIMessage(content=\"The ratio test is a test used to determine the convergence or divergence of a series. It is defined as follows:\\n\\nLet ∑an be a series and define:\\n\\nL = lim (n→∞) |an+1/an|\\n\\nThen:\\n\\n1. If L < 1, the series is absolutely convergent (and hence convergent).\\n2. If L > 1, the series is divergent.\\n3. If L = 1, the series may be divergent, conditionally convergent, or absolutely convergent.\\n\\nThe ratio test is often used to determine the convergence of series that involve factorials, powers, or other types of expressions. However, if the series involves only polynomials or polynomials under radicals, the ratio test will always give L = 1, which means it is not useful for determining convergence in these cases.\\n\\nIn the case where L = 1, the ratio test is inconclusive, and other tests such as the root test, the integral test, or the alternating series test may be used to determine convergence.\\n\\nThe proof of the ratio test involves assuming that L < 1 and showing that the series is absolutely convergent. It also involves showing that if L > 1, the series is divergent.\\n\\nIt's worth noting that the ratio test is not always the best test to use, and other tests may be more appropriate depending on the specific series being considered.\", response_metadata={'token_usage': {'completion_tokens': 287, 'prompt_tokens': 3088, 'total_tokens': 3375, 'completion_time': 1.148325664, 'prompt_time': 0.77510682, 'queue_time': 0.0055954420000000615, 'total_time': 1.923432484}, 'model_name': 'llama-3.1-70b-versatile', 'system_fingerprint': 'fp_5c5d1b5cfb', 'finish_reason': 'stop', 'logprobs': None}, id='run-a1ac2e2e-6028-4c8b-9363-7bbea53b5dce-0', usage_metadata={'input_tokens': 3088, 'output_tokens': 287, 'total_tokens': 3375}),\n",
       " HumanMessage(content='what is the ratio test?', id='5c0526ce-fb8f-45e4-a6fe-5b510f209be4'),\n",
       " AIMessage(content='', additional_kwargs={'tool_calls': [{'id': 'call_tmd6', 'function': {'arguments': '{\"query\": \"ratio test definition calculus\"}', 'name': 'notes_search'}, 'type': 'function'}]}, response_metadata={'token_usage': {'completion_tokens': 18, 'prompt_tokens': 3390, 'total_tokens': 3408, 'completion_time': 0.072, 'prompt_time': 0.760541869, 'queue_time': 3.8222949809999998, 'total_time': 0.832541869}, 'model_name': 'llama-3.1-70b-versatile', 'system_fingerprint': 'fp_b3ae7e594e', 'finish_reason': 'tool_calls', 'logprobs': None}, id='run-cbc953c4-79c2-4cbc-b081-c74bfe1972d4-0', tool_calls=[{'name': 'notes_search', 'args': {'query': 'ratio test definition calculus'}, 'id': 'call_tmd6', 'type': 'tool_call'}], usage_metadata={'input_tokens': 3390, 'output_tokens': 18, 'total_tokens': 3408}),\n",
       " ToolMessage(content=\"[Document(metadata={'source': 'calculus_notes/Calculus.pdf', 'page': 854, '_id': '6668ebb4cef24e03956b017836c6feb1', '_collection_name': 'course_documents'}, page_content='Chapter 10 : Series and Sequences Section 10.10 : Ratio Test\\\\nAgain, we will run across factorials with parenthesis so don’t drop them. This is often one of the\\\\nmorecommonmistakesthatstudentsmakewhentheyfirstrunacrossfactorials.\\\\nOkay,wearenowreadyforthetest.\\\\nRatio Test\\\\nSupposewehavetheseries∑\\\\nan. Define,\\\\nL=lim\\\\nn→∞⏐⏐⏐⏐an+1\\\\nan⏐⏐⏐⏐\\\\nThen,\\\\n1.ifL < 1theseriesisabsolutelyconvergent(andhenceconvergent).\\\\n2.ifL > 1theseriesisdivergent.\\\\n3.ifL= 1theseriesmaybedivergent,conditionallyconvergent,orabsolutelyconver-\\\\ngent.\\\\nAproofofthistestisattheendofthesection.\\\\nNoticethatinthecaseof L= 1theratiotestisprettymuchworthlessandwewouldneedtoresort\\\\ntoadifferenttesttodeterminetheconvergenceoftheseries.\\\\nAlso, the absolute value bars in the definition of Lare absolutely required. If they are not there it\\\\nwillbeimpossibleforustogetthecorrectanswer.\\\\nLet’stakealookatsomeexamples.\\\\nExample 1\\\\nDetermineifthefollowingseriesisconvergentordivergent.\\\\n∞∑\\\\nn=1(−10)n\\\\n42n+1(n+ 1)\\\\nSolution\\\\nWith this first example let’s be a little careful and make sure that we have everything down\\\\ncorrectly. Herearetheseriesterms an.\\\\nan=(−10)n\\\\n42n+1(n+ 1)\\\\n© Paul Dawkins Calculus – 827 –'), Document(metadata={'source': 'calculus_notes/Calculus.pdf', 'page': 867, '_id': 'e7e41bf2f5fe4435bff18d53fbafef92', '_collection_name': 'course_documents'}, page_content='Chapter 10 : Series and Sequences Section 10.12 : Strategy for Series\\\\nRatio Test\\\\nSupposewehavetheseries∑\\\\nan. Define,\\\\nL=lim\\\\nn→∞⏐⏐⏐⏐an+1\\\\nan⏐⏐⏐⏐\\\\nThen,\\\\n1.ifL < 1theseriesisabsolutelyconvergent(andhenceconvergent).\\\\n2.ifL > 1theseriesisdivergent.\\\\n3.ifL= 1theseriesmaybedivergent,conditionallyconvergent,orabsolutelyconvergent.\\\\nRoot Test\\\\nSupposethatwehavetheseries∑\\\\nan. Define,\\\\nL=lim\\\\nn→∞n√\\\\n|an|=lim\\\\nn→∞|an|1\\\\nn\\\\nThen,\\\\n1.ifL < 1theseriesisabsolutelyconvergent(andhenceconvergent).\\\\n2.ifL > 1theseriesisdivergent.\\\\n3.ifL= 1theseriesmaybedivergent,conditionallyconvergent,orabsolutelyconvergent.\\\\n© Paul Dawkins Calculus – 840 –'), Document(metadata={'source': 'calculus_notes/Calculus.pdf', 'page': 859, '_id': 'c01a765e24ee4bd9ba1cb7c2cf5aaade', '_collection_name': 'course_documents'}, page_content='Chapter 10 : Series and Sequences Section 10.10 : Ratio Test\\\\nThere is one more thing that we should note about the ratio test before we move onto the next\\\\nsection. The last series was a polynomial divided by a polynomial and we saw that we got L= 1\\\\nfromtheratiotest. Thiswillalwayshappenwithrationalexpressionsinvolvingonlypolynomialsor\\\\npolynomialsunderradicals. So,inthefutureitisn’tevenworthittotrytheratiotestonthesekinds\\\\nofproblemssincewenowknowthatwewillget L= 1.\\\\nAlso,inthesecondtolastexamplewesawanexampleofanalternatingseriesinwhichthepositive\\\\ntermwasarationalexpressioninvolvingpolynomialsandagainwewillalwaysget L= 1inthese\\\\ncases.\\\\nLet’sclosethesectionoutwithaproofoftheRatioTest.\\\\nProof of Ratio Test\\\\nFirst note that we can assume without loss of generality that the series will start at n= 1\\\\naswe’vedoneforallourseriestestproofs.\\\\nLet’s start off the proof here by assuming that L < 1and we’ll need to show that∑anis\\\\nabsolutelyconvergent. Todothislet’sfirstnotethatbecause L < 1thereissomenumber\\\\nrsuchthat L < r < 1.\\\\nNow,recallthat,\\\\nL=lim\\\\nn→∞⏐⏐⏐⏐an+1\\\\nan⏐⏐⏐⏐\\\\nand because we also have chosen rsuch that L < rthere is some Nsuch that if n≥N\\\\nwewillhave, ⏐⏐⏐⏐an+1\\\\nan⏐⏐⏐⏐< r ⇒ | an+1|< r|an|\\\\nNext,considerthefollowing,\\\\n|aN+1|< r|aN|\\\\n|aN+2|< r|aN+1|< r2|aN|\\\\n|aN+3|< r|aN+2|< r3|aN|\\\\n...\\\\n|aN+k|< r|aN+k−1|< rk|aN|\\\\nSo, for k= 1,2,3, . . .we have |aN+k|< rk|aN|. Just why is this important? Well we can\\\\nnowlookatthefollowingseries.\\\\n∞∑\\\\nk=0|aN|rk\\\\nThis is a geometric series and because 0< r < 1we in fact know that it is a convergent\\\\n© Paul Dawkins Calculus – 832 –'), Document(metadata={'source': 'calculus_notes/Calculus.pdf', 'page': 857, '_id': 'ad53511b9aeb47b58a88fa491d4ae975', '_collection_name': 'course_documents'}, page_content='Chapter 10 : Series and Sequences Section 10.10 : Ratio Test\\\\nExample 4\\\\nDetermineifthefollowingseriesisconvergentordivergent.\\\\n∞∑\\\\nn=19n\\\\n(−2)n+1n\\\\nSolution\\\\nDonotmistakethisfora geometricseries . The ninthedenominatormeansthatthisisn’ta\\\\ngeometricseries. So,let’scomputethelimit.\\\\nL=lim\\\\nn→∞⏐⏐⏐⏐⏐9n+1\\\\n(−2)n+2(n+ 1)(−2)n+1n\\\\n9n⏐⏐⏐⏐⏐\\\\n=lim\\\\nn→∞⏐⏐⏐⏐9n\\\\n(−2) (n+ 1)⏐⏐⏐⏐\\\\n=9\\\\n2lim\\\\nn→∞n\\\\nn+ 1\\\\n=9\\\\n2>1\\\\nTherefore,bytheRatioTestthisseriesisdivergent.\\\\nIn the previous example the absolute value bars were required to get the correct answer. If we\\\\nhadn’t used them we would have gotten L=−9\\\\n2<1which would have implied a convergent\\\\nseries!\\\\nNow, let’s take a look at a couple of examples to see what happens when we get L= 1. Re-\\\\ncall that the ratio test will not tell us anything about the convergence of these series. In both of\\\\nthese examples we will first verify that we get L= 1and then use other tests to determine the\\\\nconvergence.\\\\nExample 5\\\\nDetermineifthefollowingseriesisconvergentordivergent.\\\\n∞∑\\\\nn=0(−1)n\\\\nn2+ 1\\\\nSolution\\\\n© Paul Dawkins Calculus – 830 –')]\", name='notes_search', id='628f78ea-3144-4c10-acc4-ea701660f9d5', tool_call_id='call_tmd6'),\n",
       " AIMessage(content=\"The ratio test is a test used to determine the convergence or divergence of a series. It is defined as follows:\\n\\nLet ∑an be a series and define:\\n\\nL = lim (n→∞) |an+1/an|\\n\\nThen:\\n\\n1. If L < 1, the series is absolutely convergent (and hence convergent).\\n2. If L > 1, the series is divergent.\\n3. If L = 1, the series may be divergent, conditionally convergent, or absolutely convergent.\\n\\nThe ratio test is often used to determine the convergence of series that involve factorials, powers, or other types of expressions. However, if the series involves only polynomials or polynomials under radicals, the ratio test will always give L = 1, which means it is not useful for determining convergence in these cases.\\n\\nIn the case where L = 1, the ratio test is inconclusive, and other tests such as the root test, the integral test, or the alternating series test may be used to determine convergence.\\n\\nThe proof of the ratio test involves assuming that L < 1 and showing that the series is absolutely convergent. It also involves showing that if L > 1, the series is divergent.\\n\\nIt's worth noting that the ratio test is not always the best test to use, and other tests may be more appropriate depending on the specific series being considered.\", response_metadata={'token_usage': {'completion_tokens': 287, 'prompt_tokens': 5320, 'total_tokens': 5607, 'completion_time': 1.15036659, 'prompt_time': 1.33338881, 'queue_time': 0.33327211300000004, 'total_time': 2.4837554}, 'model_name': 'llama-3.1-70b-versatile', 'system_fingerprint': 'fp_9260b4bb2e', 'finish_reason': 'stop', 'logprobs': None}, id='run-737f2675-2767-49ca-a342-caa0f801923a-0', usage_metadata={'input_tokens': 5320, 'output_tokens': 287, 'total_tokens': 5607}),\n",
       " HumanMessage(content='what is the intergral of 3x^2 with respect to x?', id='3e686792-2923-435a-b611-885c1b9862d4'),\n",
       " AIMessage(content='', additional_kwargs={'tool_calls': [{'id': 'call_48dq', 'function': {'arguments': '{\"query\": \"integrate 3x^2 with respect to x\"}', 'name': 'wolfram_call'}, 'type': 'function'}]}, response_metadata={'token_usage': {'completion_tokens': 26, 'prompt_tokens': 5633, 'total_tokens': 5659, 'completion_time': 0.105869107, 'prompt_time': 1.84618558, 'queue_time': 2.4361757179999994, 'total_time': 1.952054687}, 'model_name': 'llama-3.1-70b-versatile', 'system_fingerprint': 'fp_9260b4bb2e', 'finish_reason': 'tool_calls', 'logprobs': None}, id='run-b59ae1f5-0f6d-4fe9-91aa-b44864893026-0', tool_calls=[{'name': 'wolfram_call', 'args': {'query': 'integrate 3x^2 with respect to x'}, 'id': 'call_48dq', 'type': 'tool_call'}], usage_metadata={'input_tokens': 5633, 'output_tokens': 26, 'total_tokens': 5659}),\n",
       " ToolMessage(content=\"[[{'title': '', 'plaintext': 'integral3 x^2 dx = x^3 + constant'}], [{'title': '', 'plaintext': ''}]]\", name='wolfram_call', id='5ea821fc-c4cf-44d7-8e68-cb7d2680d1e1', tool_call_id='call_48dq'),\n",
       " AIMessage(content='The integral of 3x^2 with respect to x is x^3 + constant.', response_metadata={'token_usage': {'completion_tokens': 20, 'prompt_tokens': 5702, 'total_tokens': 5722, 'completion_time': 0.08, 'prompt_time': 1.528063326, 'queue_time': 0.006798724000000034, 'total_time': 1.608063326}, 'model_name': 'llama-3.1-70b-versatile', 'system_fingerprint': 'fp_b3ae7e594e', 'finish_reason': 'stop', 'logprobs': None}, id='run-e1790498-a4b0-48a9-b17c-882b47d0def0-0', usage_metadata={'input_tokens': 5702, 'output_tokens': 20, 'total_tokens': 5722}),\n",
       " HumanMessage(content='Solve 2+3', id='35ff7ecc-ffe3-4ace-b276-d96d74c0f9aa'),\n",
       " AIMessage(content='', additional_kwargs={'tool_calls': [{'id': 'call_bn45', 'function': {'arguments': '{\"query\": \"2+3\"}', 'name': 'wolfram_call'}, 'type': 'function'}]}, response_metadata={'token_usage': {'completion_tokens': 18, 'prompt_tokens': 5737, 'total_tokens': 5755, 'completion_time': 0.072, 'prompt_time': 1.77559641, 'queue_time': 0.051030458000000056, 'total_time': 1.84759641}, 'model_name': 'llama-3.1-70b-versatile', 'system_fingerprint': 'fp_b6828be2c9', 'finish_reason': 'tool_calls', 'logprobs': None}, id='run-2333c464-cfb9-46d8-8c54-232254a62304-0', tool_calls=[{'name': 'wolfram_call', 'args': {'query': '2+3'}, 'id': 'call_bn45', 'type': 'tool_call'}], usage_metadata={'input_tokens': 5737, 'output_tokens': 18, 'total_tokens': 5755}),\n",
       " ToolMessage(content=\"[[{'title': '', 'plaintext': '2 + 3'}], [{'title': '', 'plaintext': '5'}], [{'title': '', 'plaintext': ''}], [{'title': '', 'plaintext': 'five'}], [{'title': '', 'plaintext': ' | + | | = | \\\\n2 | | 3 | | 5'}], [{'title': '', 'microsources': {'microsource': 'HumanComputationQuery'}, 'plaintext': 'age 6: 4.2 seconds | age 8: 2.2 seconds | age 10: 1.3 seconds | \\\\nage 18: 0.85 seconds\\\\n(ignoring concentration, repetition, variations in education, etc.)'}]]\", name='wolfram_call', id='feb7eb88-98be-4d05-8b89-bb44d9d5bd4d', tool_call_id='call_bn45'),\n",
       " AIMessage(content='The solution to 2+3 is 5.', response_metadata={'token_usage': {'completion_tokens': 12, 'prompt_tokens': 5916, 'total_tokens': 5928, 'completion_time': 0.048691085, 'prompt_time': 1.48854855, 'queue_time': 0.07450529599999989, 'total_time': 1.5372396350000002}, 'model_name': 'llama-3.1-70b-versatile', 'system_fingerprint': 'fp_5c5d1b5cfb', 'finish_reason': 'stop', 'logprobs': None}, id='run-177d3441-a0ec-4b1f-b754-380a64e1360a-0', usage_metadata={'input_tokens': 5916, 'output_tokens': 12, 'total_tokens': 5928})]"
      ]
     },
     "execution_count": 40,
     "metadata": {},
     "output_type": "execute_result"
    }
   ],
   "source": [
    "result[\"messages\"]"
   ]
  },
  {
   "cell_type": "code",
   "execution_count": 37,
   "metadata": {},
   "outputs": [
    {
     "data": {
      "text/plain": [
       "ToolMessage(content=\"[[{'title': '', 'plaintext': '2 + 3'}], [{'title': '', 'plaintext': '5'}], [{'title': '', 'plaintext': ''}], [{'title': '', 'plaintext': 'five'}], [{'title': '', 'plaintext': ' | + | | = | \\\\n2 | | 3 | | 5'}], [{'title': '', 'microsources': {'microsource': 'HumanComputationQuery'}, 'plaintext': 'age 6: 4.2 seconds | age 8: 2.2 seconds | age 10: 1.3 seconds | \\\\nage 18: 0.85 seconds\\\\n(ignoring concentration, repetition, variations in education, etc.)'}]]\", name='wolfram_call', id='feb7eb88-98be-4d05-8b89-bb44d9d5bd4d', tool_call_id='call_bn45')"
      ]
     },
     "execution_count": 37,
     "metadata": {},
     "output_type": "execute_result"
    }
   ],
   "source": [
    "result[\"messages\"][-2]"
   ]
  },
  {
   "cell_type": "code",
   "execution_count": 56,
   "metadata": {},
   "outputs": [
    {
     "name": "stdout",
     "output_type": "stream",
     "text": [
      "================================\u001b[1m Human Message \u001b[0m=================================\n",
      "\n",
      "what is the ratio test?\n",
      "==================================\u001b[1m Ai Message \u001b[0m==================================\n",
      "Tool Calls:\n",
      "  notes_search (call_cc8y)\n",
      " Call ID: call_cc8y\n",
      "  Args:\n",
      "    query: ratio test definition\n",
      "=================================\u001b[1m Tool Message \u001b[0m=================================\n",
      "Name: notes_search\n",
      "\n",
      "[Document(metadata={'pk': 451951026610838545, 'source': 'calculus_notes/Calculus.pdf', 'page': 854}, page_content='Chapter 10 : Series and Sequences Section 10.10 : Ratio Test\\nAgain, we will run across factorials with parenthesis so don’t drop them. This is often one of the\\nmorecommonmistakesthatstudentsmakewhentheyfirstrunacrossfactorials.\\nOkay,wearenowreadyforthetest.\\nRatio Test\\nSupposewehavetheseries∑\\nan. Define,\\nL=lim\\nn→∞⏐⏐⏐⏐an+1\\nan⏐⏐⏐⏐\\nThen,\\n1.ifL < 1theseriesisabsolutelyconvergent(andhenceconvergent).\\n2.ifL > 1theseriesisdivergent.\\n3.ifL= 1theseriesmaybedivergent,conditionallyconvergent,orabsolutelyconver-\\ngent.\\nAproofofthistestisattheendofthesection.\\nNoticethatinthecaseof L= 1theratiotestisprettymuchworthlessandwewouldneedtoresort\\ntoadifferenttesttodeterminetheconvergenceoftheseries.\\nAlso, the absolute value bars in the definition of Lare absolutely required. If they are not there it\\nwillbeimpossibleforustogetthecorrectanswer.\\nLet’stakealookatsomeexamples.\\nExample 1\\nDetermineifthefollowingseriesisconvergentordivergent.\\n∞∑\\nn=1(−10)n\\n42n+1(n+ 1)\\nSolution\\nWith this first example let’s be a little careful and make sure that we have everything down\\ncorrectly. Herearetheseriesterms an.\\nan=(−10)n\\n42n+1(n+ 1)\\n© Paul Dawkins Calculus – 827 –'), Document(metadata={'pk': 451951026610838558, 'source': 'calculus_notes/Calculus.pdf', 'page': 867}, page_content='Chapter 10 : Series and Sequences Section 10.12 : Strategy for Series\\nRatio Test\\nSupposewehavetheseries∑\\nan. Define,\\nL=lim\\nn→∞⏐⏐⏐⏐an+1\\nan⏐⏐⏐⏐\\nThen,\\n1.ifL < 1theseriesisabsolutelyconvergent(andhenceconvergent).\\n2.ifL > 1theseriesisdivergent.\\n3.ifL= 1theseriesmaybedivergent,conditionallyconvergent,orabsolutelyconvergent.\\nRoot Test\\nSupposethatwehavetheseries∑\\nan. Define,\\nL=lim\\nn→∞n√\\n|an|=lim\\nn→∞|an|1\\nn\\nThen,\\n1.ifL < 1theseriesisabsolutelyconvergent(andhenceconvergent).\\n2.ifL > 1theseriesisdivergent.\\n3.ifL= 1theseriesmaybedivergent,conditionallyconvergent,orabsolutelyconvergent.\\n© Paul Dawkins Calculus – 840 –'), Document(metadata={'pk': 451951026610838550, 'source': 'calculus_notes/Calculus.pdf', 'page': 859}, page_content='Chapter 10 : Series and Sequences Section 10.10 : Ratio Test\\nThere is one more thing that we should note about the ratio test before we move onto the next\\nsection. The last series was a polynomial divided by a polynomial and we saw that we got L= 1\\nfromtheratiotest. Thiswillalwayshappenwithrationalexpressionsinvolvingonlypolynomialsor\\npolynomialsunderradicals. So,inthefutureitisn’tevenworthittotrytheratiotestonthesekinds\\nofproblemssincewenowknowthatwewillget L= 1.\\nAlso,inthesecondtolastexamplewesawanexampleofanalternatingseriesinwhichthepositive\\ntermwasarationalexpressioninvolvingpolynomialsandagainwewillalwaysget L= 1inthese\\ncases.\\nLet’sclosethesectionoutwithaproofoftheRatioTest.\\nProof of Ratio Test\\nFirst note that we can assume without loss of generality that the series will start at n= 1\\naswe’vedoneforallourseriestestproofs.\\nLet’s start off the proof here by assuming that L < 1and we’ll need to show that∑anis\\nabsolutelyconvergent. Todothislet’sfirstnotethatbecause L < 1thereissomenumber\\nrsuchthat L < r < 1.\\nNow,recallthat,\\nL=lim\\nn→∞⏐⏐⏐⏐an+1\\nan⏐⏐⏐⏐\\nand because we also have chosen rsuch that L < rthere is some Nsuch that if n≥N\\nwewillhave, ⏐⏐⏐⏐an+1\\nan⏐⏐⏐⏐< r ⇒ | an+1|< r|an|\\nNext,considerthefollowing,\\n|aN+1|< r|aN|\\n|aN+2|< r|aN+1|< r2|aN|\\n|aN+3|< r|aN+2|< r3|aN|\\n...\\n|aN+k|< r|aN+k−1|< rk|aN|\\nSo, for k= 1,2,3, . . .we have |aN+k|< rk|aN|. Just why is this important? Well we can\\nnowlookatthefollowingseries.\\n∞∑\\nk=0|aN|rk\\nThis is a geometric series and because 0< r < 1we in fact know that it is a convergent\\n© Paul Dawkins Calculus – 832 –'), Document(metadata={'pk': 451951026610838549, 'source': 'calculus_notes/Calculus.pdf', 'page': 858}, page_content='Chapter 10 : Series and Sequences Section 10.10 : Ratio Test\\nLet’sfirstget L.\\nL=lim\\nn→∞⏐⏐⏐⏐⏐(−1)n+1\\n(n+ 1)2+ 1n2+ 1\\n(−1)n⏐⏐⏐⏐⏐=lim\\nn→∞n2+ 1\\n(n+ 1)2+ 1= 1\\nSo, as implied earlier we get L= 1which means the ratio test is no good for determining\\nthe convergence of this series. We will need to resort to another test for this series. This\\nseriesisanalternatingseriesandsolet’scheckthetwoconditionsfromthattest.\\nlim\\nn→∞bn=lim\\nn→∞1\\nn2+ 1= 0\\nbn=1\\nn2+ 1>1\\n(n+ 1)2+ 1=bn+1\\nThe two conditions are met and so by theAlternating SeriesTest this series is convergent.\\nWe’llleaveittoyoutoverifythisseriesisalsoabsolutelyconvergent.\\nExample 6\\nDetermineifthefollowingseriesisconvergentordivergent.\\n∞∑\\nn=0n+ 2\\n2n+ 7\\nSolution\\nHere’sthelimit.\\nL=lim\\nn→∞⏐⏐⏐⏐n+ 3\\n2 (n+ 1) + 72n+ 7\\nn+ 2⏐⏐⏐⏐=lim\\nn→∞(n+ 3) (2 n+ 7)\\n(2n+ 9) ( n+ 2)= 1\\nAgain,theratiotesttellsusnothinghere. Wecanhowever,quicklyusethedivergencetest\\nonthis. Infactthatprobablyshouldhavebeenourfirstchoiceonthisoneanyway.\\nlim\\nn→∞n+ 2\\n2n+ 7=1\\n2̸= 0\\nBytheDivergenceTestthisseriesisdivergent.\\nSo, as we saw in the previous two examples if we get L= 1from the ratio test the series can be\\neitherconvergentordivergent.\\n© Paul Dawkins Calculus – 831 –')]\n",
      "==================================\u001b[1m Ai Message \u001b[0m==================================\n",
      "\n",
      "The ratio test is a test used to determine the convergence or divergence of a series. It is defined as follows:\n",
      "\n",
      "Let ∑an be a series and define:\n",
      "\n",
      "L = lim (n→∞) |an+1/an|\n",
      "\n",
      "Then:\n",
      "\n",
      "1. If L < 1, the series is absolutely convergent (and hence convergent).\n",
      "2. If L > 1, the series is divergent.\n",
      "3. If L = 1, the series may be divergent, conditionally convergent, or absolutely convergent.\n",
      "\n",
      "The ratio test is often used to determine the convergence of series that involve factorials, powers, or other types of expressions. However, if the series involves only polynomials or polynomials under radicals, the ratio test will always give L = 1, which means it is not useful for determining convergence in these cases.\n",
      "\n",
      "In the case where L = 1, the ratio test is inconclusive, and other tests such as the root test, the integral test, or the alternating series test may be used to determine convergence.\n",
      "\n",
      "The proof of the ratio test involves assuming that L < 1 and showing that the series is absolutely convergent. It also involves showing that if L > 1, the series is divergent.\n",
      "\n",
      "It's worth noting that the ratio test is not always the best test to use, and other tests may be more appropriate depending on the specific series being considered.\n"
     ]
    }
   ],
   "source": [
    "inputs = {\"messages\": [(\"user\", \"what is the ratio test?\")]}\n",
    "\n",
    "\n",
    "def print_stream(stream):\n",
    "    for s in stream:\n",
    "        message = s[\"messages\"][-1]\n",
    "        if isinstance(message, tuple):\n",
    "            print(message)\n",
    "        else:\n",
    "            message.pretty_print()\n",
    "\n",
    "print_stream(app.stream(inputs, stream_mode=\"values\", config=config))"
   ]
  },
  {
   "cell_type": "code",
   "execution_count": 24,
   "metadata": {},
   "outputs": [
    {
     "data": {
      "text/latex": [
       "The ratio test is a test used to determine the convergence or divergence of a series. It is defined as follows:\n",
       "\n",
       "Let ∑an be a series and define:\n",
       "\n",
       "L = lim (n→∞) |an+1/an|\n",
       "\n",
       "Then:\n",
       "\n",
       "1. If L < 1, the series is absolutely convergent (and hence convergent).\n",
       "2. If L > 1, the series is divergent.\n",
       "3. If L = 1, the series may be divergent, conditionally convergent, or absolutely convergent.\n",
       "\n",
       "The ratio test is often used to determine the convergence of series that involve factorials, powers, or other types of expressions. However, if the series involves only polynomials or polynomials under radicals, the ratio test will always give L = 1, which means it is not useful for determining convergence in these cases.\n",
       "\n",
       "In the case where L = 1, the ratio test is inconclusive, and other tests such as the root test, the integral test, or the alternating series test may be used to determine convergence.\n",
       "\n",
       "The proof of the ratio test involves assuming that L < 1 and showing that the series is absolutely convergent. It also involves showing that if L > 1, the series is divergent.\n",
       "\n",
       "It's worth noting that the ratio test is not always the best test to use, and other tests may be more appropriate depending on the specific series being considered."
      ],
      "text/plain": [
       "<IPython.core.display.Latex object>"
      ]
     },
     "metadata": {},
     "output_type": "display_data"
    }
   ],
   "source": [
    "from IPython.display import display, Latex\n",
    "\n",
    "display(Latex(result))\n"
   ]
  },
  {
   "cell_type": "code",
   "execution_count": 30,
   "metadata": {},
   "outputs": [
    {
     "name": "stdout",
     "output_type": "stream",
     "text": [
      "================================\u001b[1m Human Message \u001b[0m=================================\n",
      "\n",
      "what is the intergral of 3x^2 with respect to x?\n",
      "==================================\u001b[1m Ai Message \u001b[0m==================================\n",
      "Tool Calls:\n",
      "  wolfram_call (call_48dq)\n",
      " Call ID: call_48dq\n",
      "  Args:\n",
      "    query: integrate 3x^2 with respect to x\n",
      "=================================\u001b[1m Tool Message \u001b[0m=================================\n",
      "Name: wolfram_call\n",
      "\n",
      "[[{'title': '', 'plaintext': 'integral3 x^2 dx = x^3 + constant'}], [{'title': '', 'plaintext': ''}]]\n",
      "==================================\u001b[1m Ai Message \u001b[0m==================================\n",
      "\n",
      "The integral of 3x^2 with respect to x is x^3 + constant.\n"
     ]
    }
   ],
   "source": [
    "inputs2 = {\"messages\": [(\"user\", \"what is the intergral of 3x^2 with respect to x?\")]}\n",
    "\n",
    "print_stream(app.stream(inputs2, stream_mode=\"values\", config=config))"
   ]
  },
  {
   "cell_type": "code",
   "execution_count": null,
   "metadata": {},
   "outputs": [],
   "source": []
  }
 ],
 "metadata": {
  "kernelspec": {
   "display_name": "venv",
   "language": "python",
   "name": "python3"
  },
  "language_info": {
   "codemirror_mode": {
    "name": "ipython",
    "version": 3
   },
   "file_extension": ".py",
   "mimetype": "text/x-python",
   "name": "python",
   "nbconvert_exporter": "python",
   "pygments_lexer": "ipython3",
   "version": "3.12.5"
  }
 },
 "nbformat": 4,
 "nbformat_minor": 2
}
